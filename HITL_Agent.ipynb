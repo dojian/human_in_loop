{
 "cells": [
  {
   "cell_type": "code",
   "execution_count": 81,
   "id": "7ebde9f4",
   "metadata": {},
   "outputs": [
    {
     "data": {
      "text/plain": [
       "True"
      ]
     },
     "execution_count": 81,
     "metadata": {},
     "output_type": "execute_result"
    }
   ],
   "source": [
    "from dotenv import load_dotenv\n",
    "load_dotenv()"
   ]
  },
  {
   "cell_type": "code",
   "execution_count": 82,
   "id": "6437a58e",
   "metadata": {},
   "outputs": [],
   "source": [
    "FORBIDDEN_TOPICS = [\"violence\", \"murder\", \"sex\", \"drugs\", \"death\", \"blood\", \"war\"]\n",
    "\n",
    "@tool\n",
    "def fetch_story(topic: str) -> str:\n",
    "    \"\"\"Returns a short story based on the given topic.\"\"\"\n",
    "    stories = {\n",
    "        \"sharing\": \"Benny the bunny shared his carrots and made everyone happy!\",\n",
    "        \"kindness\": \"Lila helped an old man and started a kindness club!\",\n",
    "        \"honesty\": \"Omar admitted his mistake and became trustworthy.\",\n",
    "        \"violence\": \"Warriors fought in blood-soaked battles... (🚫 not for kids!)\"\n",
    "    }\n",
    "    return stories.get(topic.lower(), \"Sorry, no story is available for this topic.\")"
   ]
  },
  {
   "cell_type": "code",
   "execution_count": 83,
   "id": "414fd250",
   "metadata": {},
   "outputs": [],
   "source": [
    "from langchain_google_genai import ChatGoogleGenerativeAI\n",
    "\n",
    "model = ChatGoogleGenerativeAI(model=\"gemini-2.5-flash\").bind_tools([fetch_story])"
   ]
  },
  {
   "cell_type": "code",
   "execution_count": 63,
   "id": "8af41d7a",
   "metadata": {},
   "outputs": [],
   "source": [
    "def moderate_topic_node(state):\n",
    "    question = state[\"messages\"][-1].content\n",
    "    prompt = (\n",
    "        f\"Return `true` if the following question is about any of these topics: \"\n",
    "        f\"{', '.join(FORBIDDEN_TOPICS)}. Else return False.\\n\\nQuestion: {question}\"\n",
    "    )\n",
    "    result = model.invoke(prompt).content.strip().lower()\n",
    "    return {\"messages\": state[\"messages\"] + [AIMessage(content=result)]}"
   ]
  },
  {
   "cell_type": "code",
   "execution_count": 64,
   "id": "643a5e89",
   "metadata": {},
   "outputs": [],
   "source": [
    "def route_after_moderation(state):\n",
    "    result = state[\"messages\"][-1].content.strip().lower()\n",
    "    if \"true\" in result:\n",
    "        return \"reject_story_node\"\n",
    "    return \"generate_story\""
   ]
  },
  {
   "cell_type": "code",
   "execution_count": 65,
   "id": "ab7d6df5",
   "metadata": {},
   "outputs": [],
   "source": [
    "def generate_story(state):\n",
    "    messages = state[\"messages\"]\n",
    "    response = model.invoke(messages)\n",
    "    return {\"messages\": response}"
   ]
  },
  {
   "cell_type": "code",
   "execution_count": 66,
   "id": "819feb00",
   "metadata": {},
   "outputs": [],
   "source": [
    "def should_continue(state):\n",
    "    last_message = state[\"messages\"][-1]\n",
    "    if last_message.tool_calls:\n",
    "        return \"call_tool\"\n",
    "    return \"human_review_node\""
   ]
  },
  {
   "cell_type": "code",
   "execution_count": null,
   "id": "953f9264",
   "metadata": {},
   "outputs": [],
   "source": [
    "def route_after_tool(state):\n",
    "    story = state[\"messages\"][-1].content.lower()\n",
    "    if any(word in story for word in FORBIDDEN_TOPICS):\n",
    "        return \"reject_story_node\"\n",
    "    return \"human_review_node\"\n",
    "\n",
    "\n",
    "def reject_story_node(state):\n",
    "    if state[\"messages\"][-1].content == \"Story rejected by human\":\n",
    "        return {\n",
    "            \"messages\": [\"❌ \"] + [state[\"messages\"][-1]]\n",
    "        }\n",
    "    else:\n",
    "        return {\n",
    "            \"messages\": [\n",
    "                AIMessage(content=\"❌ This topic is not suitable for kids and has been rejected.\")\n",
    "            ]\n",
    "        }"
   ]
  },
  {
   "cell_type": "code",
   "execution_count": 74,
   "id": "e7e25ec7",
   "metadata": {},
   "outputs": [],
   "source": [
    "from langgraph.types import Command, interrupt\n",
    "\n",
    "def human_review_node(state):\n",
    "    last_message = state[\"messages\"][-1]\n",
    "    review = interrupt({\n",
    "        \"question\": \"Do you want to publish this story?\",\n",
    "        \"story\": last_message\n",
    "    })\n",
    "\n",
    "    action = review[\"action\"]\n",
    "    data = review.get(\"data\")\n",
    "    if action == \"publish\":\n",
    "        print(\"published!\")\n",
    "        return Command(goto=END)\n",
    "    elif action == \"reject\":\n",
    "        return Command(goto=END, update={\n",
    "            \"messages\": state[\"messages\"] + [AIMessage(content=\"❌ Story rejected by human.\")]\n",
    "        })"
   ]
  },
  {
   "cell_type": "code",
   "execution_count": 75,
   "id": "29910e31",
   "metadata": {},
   "outputs": [],
   "source": [
    "from langgraph.graph import StateGraph, MessagesState, END\n",
    "from langgraph.checkpoint.memory import MemorySaver\n",
    "from langgraph.prebuilt import ToolNode\n",
    "\n",
    "builder = StateGraph(MessagesState)\n",
    "\n",
    "tools = ToolNode(tools=[fetch_story])\n",
    "\n",
    "builder.add_node(\"moderate_topic\", moderate_topic_node)\n",
    "builder.add_node(\"call_tool\", tools)\n",
    "builder.add_node(\"reject_story_node\", reject_story_node)\n",
    "builder.add_node(\"human_review_node\", human_review_node)\n",
    "builder.add_node(\"generate_story\", generate_story)\n",
    "\n",
    "builder.set_entry_point(\"moderate_topic\")\n",
    "builder.add_conditional_edges(\"moderate_topic\", route_after_moderation, {\"reject_story_node\":\"reject_story_node\", \"generate_story\":\"generate_story\"})\n",
    "builder.add_conditional_edges(\"generate_story\", should_continue, {\"call_tool\":\"call_tool\", \"human_review_node\":\"human_review_node\"})\n",
    "\n",
    "builder.add_edge(\"call_tool\", \"generate_story\")\n",
    "\n",
    "builder.add_edge(\"reject_story_node\", END)\n",
    "\n",
    "graph = builder.compile(checkpointer=MemorySaver())"
   ]
  },
  {
   "cell_type": "code",
   "execution_count": 76,
   "id": "55eaa789",
   "metadata": {},
   "outputs": [
    {
     "data": {
      "text/plain": [
       "[{'moderate_topic': {'messages': [HumanMessage(content='Tell me a story about sharing', additional_kwargs={}, response_metadata={}, id='8e51b35c-0493-46b8-9b56-75e6dad4341d'),\n",
       "    AIMessage(content='false', additional_kwargs={}, response_metadata={}, id='b7b95df5-c34b-4480-8877-779b6b1419d0')]}},\n",
       " {'generate_story': {'messages': AIMessage(content='', additional_kwargs={'function_call': {'name': 'fetch_story', 'arguments': '{\"topic\": \"sharing\"}'}}, response_metadata={'prompt_feedback': {'block_reason': 0, 'safety_ratings': []}, 'finish_reason': 'STOP', 'model_name': 'gemini-2.5-flash', 'safety_ratings': []}, id='run--7b73892f-0dc8-4685-87ed-3d1551682b59-0', tool_calls=[{'name': 'fetch_story', 'args': {'topic': 'sharing'}, 'id': '6beaa220-35e8-4ac3-b58e-1e4375954994', 'type': 'tool_call'}], usage_metadata={'input_tokens': 51, 'output_tokens': 15, 'total_tokens': 132, 'input_token_details': {'cache_read': 0}, 'output_token_details': {'reasoning': 66}})}},\n",
       " {'call_tool': {'messages': [ToolMessage(content='Benny the bunny shared his carrots and made everyone happy!', name='fetch_story', id='c9320165-d0eb-4219-af31-dfe7769dc136', tool_call_id='6beaa220-35e8-4ac3-b58e-1e4375954994')]}},\n",
       " {'generate_story': {'messages': AIMessage(content='Benny the bunny shared his carrots and made everyone happy!', additional_kwargs={}, response_metadata={'prompt_feedback': {'block_reason': 0, 'safety_ratings': []}, 'finish_reason': 'STOP', 'model_name': 'gemini-2.5-flash', 'safety_ratings': []}, id='run--da019a9e-4900-4b0a-b024-5a11a95b71c6-0', usage_metadata={'input_tokens': 92, 'output_tokens': 12, 'total_tokens': 167, 'input_token_details': {'cache_read': 0}, 'output_token_details': {'reasoning': 63}})}},\n",
       " {'__interrupt__': (Interrupt(value={'question': 'Do you want to publish this story?', 'story': AIMessage(content='Benny the bunny shared his carrots and made everyone happy!', additional_kwargs={}, response_metadata={'prompt_feedback': {'block_reason': 0, 'safety_ratings': []}, 'finish_reason': 'STOP', 'model_name': 'gemini-2.5-flash', 'safety_ratings': []}, id='run--da019a9e-4900-4b0a-b024-5a11a95b71c6-0', usage_metadata={'input_tokens': 92, 'output_tokens': 12, 'total_tokens': 167, 'input_token_details': {'cache_read': 0}, 'output_token_details': {'reasoning': 63}})}, resumable=True, ns=['human_review_node:8d6115b5-f16d-a3e7-6c1d-6e0eb3968b76']),)}]"
      ]
     },
     "execution_count": 76,
     "metadata": {},
     "output_type": "execute_result"
    }
   ],
   "source": [
    "from langchain_core.messages import HumanMessage\n",
    "\n",
    "input = {\"messages\": [HumanMessage(content=\"Tell me a story about sharing\")]}\n",
    "config = {\"configurable\": {\"thread_id\": \"kid-story-1\"}}\n",
    "graph.invoke(input, config=config, stream_mode=\"updates\")"
   ]
  },
  {
   "cell_type": "code",
   "execution_count": 77,
   "id": "10267b88",
   "metadata": {},
   "outputs": [
    {
     "name": "stdout",
     "output_type": "stream",
     "text": [
      "published!\n"
     ]
    },
    {
     "data": {
      "text/plain": [
       "{'messages': [HumanMessage(content='Tell me a story about sharing', additional_kwargs={}, response_metadata={}, id='8e51b35c-0493-46b8-9b56-75e6dad4341d'),\n",
       "  AIMessage(content='false', additional_kwargs={}, response_metadata={}, id='b7b95df5-c34b-4480-8877-779b6b1419d0'),\n",
       "  AIMessage(content='', additional_kwargs={'function_call': {'name': 'fetch_story', 'arguments': '{\"topic\": \"sharing\"}'}}, response_metadata={'prompt_feedback': {'block_reason': 0, 'safety_ratings': []}, 'finish_reason': 'STOP', 'model_name': 'gemini-2.5-flash', 'safety_ratings': []}, id='run--7b73892f-0dc8-4685-87ed-3d1551682b59-0', tool_calls=[{'name': 'fetch_story', 'args': {'topic': 'sharing'}, 'id': '6beaa220-35e8-4ac3-b58e-1e4375954994', 'type': 'tool_call'}], usage_metadata={'input_tokens': 51, 'output_tokens': 15, 'total_tokens': 132, 'input_token_details': {'cache_read': 0}, 'output_token_details': {'reasoning': 66}}),\n",
       "  ToolMessage(content='Benny the bunny shared his carrots and made everyone happy!', name='fetch_story', id='c9320165-d0eb-4219-af31-dfe7769dc136', tool_call_id='6beaa220-35e8-4ac3-b58e-1e4375954994'),\n",
       "  AIMessage(content='Benny the bunny shared his carrots and made everyone happy!', additional_kwargs={}, response_metadata={'prompt_feedback': {'block_reason': 0, 'safety_ratings': []}, 'finish_reason': 'STOP', 'model_name': 'gemini-2.5-flash', 'safety_ratings': []}, id='run--da019a9e-4900-4b0a-b024-5a11a95b71c6-0', usage_metadata={'input_tokens': 92, 'output_tokens': 12, 'total_tokens': 167, 'input_token_details': {'cache_read': 0}, 'output_token_details': {'reasoning': 63}})]}"
      ]
     },
     "execution_count": 77,
     "metadata": {},
     "output_type": "execute_result"
    }
   ],
   "source": [
    "from langgraph.types import Command\n",
    "\n",
    "graph.invoke(Command(resume={\"action\": \"publish\"}), config=config)"
   ]
  },
  {
   "cell_type": "code",
   "execution_count": 78,
   "id": "cff4aae4",
   "metadata": {},
   "outputs": [
    {
     "data": {
      "text/plain": [
       "[{'moderate_topic': {'messages': [HumanMessage(content='Tell me a story about sharing', additional_kwargs={}, response_metadata={}, id='8e51b35c-0493-46b8-9b56-75e6dad4341d'),\n",
       "    AIMessage(content='false', additional_kwargs={}, response_metadata={}, id='b7b95df5-c34b-4480-8877-779b6b1419d0'),\n",
       "    AIMessage(content='', additional_kwargs={'function_call': {'name': 'fetch_story', 'arguments': '{\"topic\": \"sharing\"}'}}, response_metadata={'prompt_feedback': {'block_reason': 0, 'safety_ratings': []}, 'finish_reason': 'STOP', 'model_name': 'gemini-2.5-flash', 'safety_ratings': []}, id='run--7b73892f-0dc8-4685-87ed-3d1551682b59-0', tool_calls=[{'name': 'fetch_story', 'args': {'topic': 'sharing'}, 'id': '6beaa220-35e8-4ac3-b58e-1e4375954994', 'type': 'tool_call'}], usage_metadata={'input_tokens': 51, 'output_tokens': 15, 'total_tokens': 132, 'input_token_details': {'cache_read': 0}, 'output_token_details': {'reasoning': 66}}),\n",
       "    ToolMessage(content='Benny the bunny shared his carrots and made everyone happy!', name='fetch_story', id='c9320165-d0eb-4219-af31-dfe7769dc136', tool_call_id='6beaa220-35e8-4ac3-b58e-1e4375954994'),\n",
       "    AIMessage(content='Benny the bunny shared his carrots and made everyone happy!', additional_kwargs={}, response_metadata={'prompt_feedback': {'block_reason': 0, 'safety_ratings': []}, 'finish_reason': 'STOP', 'model_name': 'gemini-2.5-flash', 'safety_ratings': []}, id='run--da019a9e-4900-4b0a-b024-5a11a95b71c6-0', usage_metadata={'input_tokens': 92, 'output_tokens': 12, 'total_tokens': 167, 'input_token_details': {'cache_read': 0}, 'output_token_details': {'reasoning': 63}}),\n",
       "    HumanMessage(content='Tell me a story about violence', additional_kwargs={}, response_metadata={}, id='609cafda-300e-4a47-8147-8e94e9a6c029'),\n",
       "    AIMessage(content='true', additional_kwargs={}, response_metadata={}, id='e00b73bd-a665-4492-805a-cf5d8a2854c8')]}},\n",
       " {'reject_story_node': {'messages': [AIMessage(content='❌ This topic is not suitable for kids and has been rejected.', additional_kwargs={}, response_metadata={}, id='44434262-8cfe-4233-95d8-2f6ebb075157')]}}]"
      ]
     },
     "execution_count": 78,
     "metadata": {},
     "output_type": "execute_result"
    }
   ],
   "source": [
    "from langchain_core.messages import HumanMessage\n",
    "\n",
    "input = {\"messages\": [HumanMessage(content=\"Tell me a story about violence\")]}\n",
    "config = {\"configurable\": {\"thread_id\": \"kid-story-1\"}}\n",
    "graph.invoke(input, config=config, stream_mode=\"updates\")"
   ]
  },
  {
   "cell_type": "code",
   "execution_count": 79,
   "id": "f9139b04",
   "metadata": {},
   "outputs": [
    {
     "data": {
      "text/plain": [
       "[{'moderate_topic': {'messages': [HumanMessage(content='Tell me a story about sharing', additional_kwargs={}, response_metadata={}, id='8e51b35c-0493-46b8-9b56-75e6dad4341d'),\n",
       "    AIMessage(content='false', additional_kwargs={}, response_metadata={}, id='b7b95df5-c34b-4480-8877-779b6b1419d0'),\n",
       "    AIMessage(content='', additional_kwargs={'function_call': {'name': 'fetch_story', 'arguments': '{\"topic\": \"sharing\"}'}}, response_metadata={'prompt_feedback': {'block_reason': 0, 'safety_ratings': []}, 'finish_reason': 'STOP', 'model_name': 'gemini-2.5-flash', 'safety_ratings': []}, id='run--7b73892f-0dc8-4685-87ed-3d1551682b59-0', tool_calls=[{'name': 'fetch_story', 'args': {'topic': 'sharing'}, 'id': '6beaa220-35e8-4ac3-b58e-1e4375954994', 'type': 'tool_call'}], usage_metadata={'input_tokens': 51, 'output_tokens': 15, 'total_tokens': 132, 'input_token_details': {'cache_read': 0}, 'output_token_details': {'reasoning': 66}}),\n",
       "    ToolMessage(content='Benny the bunny shared his carrots and made everyone happy!', name='fetch_story', id='c9320165-d0eb-4219-af31-dfe7769dc136', tool_call_id='6beaa220-35e8-4ac3-b58e-1e4375954994'),\n",
       "    AIMessage(content='Benny the bunny shared his carrots and made everyone happy!', additional_kwargs={}, response_metadata={'prompt_feedback': {'block_reason': 0, 'safety_ratings': []}, 'finish_reason': 'STOP', 'model_name': 'gemini-2.5-flash', 'safety_ratings': []}, id='run--da019a9e-4900-4b0a-b024-5a11a95b71c6-0', usage_metadata={'input_tokens': 92, 'output_tokens': 12, 'total_tokens': 167, 'input_token_details': {'cache_read': 0}, 'output_token_details': {'reasoning': 63}}),\n",
       "    HumanMessage(content='Tell me a story about violence', additional_kwargs={}, response_metadata={}, id='609cafda-300e-4a47-8147-8e94e9a6c029'),\n",
       "    AIMessage(content='true', additional_kwargs={}, response_metadata={}, id='e00b73bd-a665-4492-805a-cf5d8a2854c8'),\n",
       "    AIMessage(content='❌ This topic is not suitable for kids and has been rejected.', additional_kwargs={}, response_metadata={}, id='44434262-8cfe-4233-95d8-2f6ebb075157'),\n",
       "    HumanMessage(content='Tell me a story about kindness', additional_kwargs={}, response_metadata={}, id='26ef0f2d-5b2f-479e-a817-419095165c71'),\n",
       "    AIMessage(content='false', additional_kwargs={}, response_metadata={}, id='9c46bfd3-0eb3-4e38-8753-12b33e45b729')]}},\n",
       " {'generate_story': {'messages': AIMessage(content='', additional_kwargs={'function_call': {'name': 'fetch_story', 'arguments': '{\"topic\": \"kindness\"}'}}, response_metadata={'prompt_feedback': {'block_reason': 0, 'safety_ratings': []}, 'finish_reason': 'STOP', 'model_name': 'gemini-2.5-flash', 'safety_ratings': []}, id='run--249700f2-4592-4684-a3fd-240560328f75-0', tool_calls=[{'name': 'fetch_story', 'args': {'topic': 'kindness'}, 'id': '2e53b707-01c4-47bf-b94a-39aa0dac5779', 'type': 'tool_call'}], usage_metadata={'input_tokens': 137, 'output_tokens': 16, 'total_tokens': 153, 'input_token_details': {'cache_read': 0}})}},\n",
       " {'call_tool': {'messages': [ToolMessage(content='Lila helped an old man and started a kindness club!', name='fetch_story', id='9961a73c-51c6-421e-a28d-17f1eb9f50b1', tool_call_id='2e53b707-01c4-47bf-b94a-39aa0dac5779')]}},\n",
       " {'generate_story': {'messages': AIMessage(content='', additional_kwargs={'function_call': {'name': 'fetch_story', 'arguments': '{\"topic\": \"kindness\"}'}}, response_metadata={'prompt_feedback': {'block_reason': 0, 'safety_ratings': []}, 'finish_reason': 'STOP', 'model_name': 'gemini-2.5-flash', 'safety_ratings': []}, id='run--ab387d27-adaf-4405-b0aa-e85a2f72c3f7-0', tool_calls=[{'name': 'fetch_story', 'args': {'topic': 'kindness'}, 'id': '6549ac1a-41c5-447b-b679-d7e0615cecbb', 'type': 'tool_call'}], usage_metadata={'input_tokens': 179, 'output_tokens': 16, 'total_tokens': 286, 'input_token_details': {'cache_read': 0}, 'output_token_details': {'reasoning': 91}})}},\n",
       " {'call_tool': {'messages': [ToolMessage(content='Lila helped an old man and started a kindness club!', name='fetch_story', id='8bb3509b-dc55-4c9e-8183-795f026bfb6b', tool_call_id='6549ac1a-41c5-447b-b679-d7e0615cecbb')]}},\n",
       " {'generate_story': {'messages': AIMessage(content='Lila helped an old man and started a kindness club!', additional_kwargs={}, response_metadata={'prompt_feedback': {'block_reason': 0, 'safety_ratings': []}, 'finish_reason': 'STOP', 'model_name': 'gemini-2.5-flash', 'safety_ratings': []}, id='run--f43d7080-ae66-4c10-beca-29b9fb823921-0', usage_metadata={'input_tokens': 221, 'output_tokens': 12, 'total_tokens': 295, 'input_token_details': {'cache_read': 0}, 'output_token_details': {'reasoning': 62}})}},\n",
       " {'__interrupt__': (Interrupt(value={'question': 'Do you want to publish this story?', 'story': AIMessage(content='Lila helped an old man and started a kindness club!', additional_kwargs={}, response_metadata={'prompt_feedback': {'block_reason': 0, 'safety_ratings': []}, 'finish_reason': 'STOP', 'model_name': 'gemini-2.5-flash', 'safety_ratings': []}, id='run--f43d7080-ae66-4c10-beca-29b9fb823921-0', usage_metadata={'input_tokens': 221, 'output_tokens': 12, 'total_tokens': 295, 'input_token_details': {'cache_read': 0}, 'output_token_details': {'reasoning': 62}})}, resumable=True, ns=['human_review_node:26d6c736-845c-0df9-bf20-3c44f0d0713b']),)}]"
      ]
     },
     "execution_count": 79,
     "metadata": {},
     "output_type": "execute_result"
    }
   ],
   "source": [
    "from langchain_core.messages import HumanMessage\n",
    "\n",
    "input = {\"messages\": [HumanMessage(content=\"Tell me a story about kindness\")]}\n",
    "config = {\"configurable\": {\"thread_id\": \"kid-story-1\"}}\n",
    "graph.invoke(input, config=config, stream_mode=\"updates\")"
   ]
  },
  {
   "cell_type": "code",
   "execution_count": 80,
   "id": "8604bd67",
   "metadata": {},
   "outputs": [
    {
     "data": {
      "text/plain": [
       "{'messages': [HumanMessage(content='Tell me a story about sharing', additional_kwargs={}, response_metadata={}, id='8e51b35c-0493-46b8-9b56-75e6dad4341d'),\n",
       "  AIMessage(content='false', additional_kwargs={}, response_metadata={}, id='b7b95df5-c34b-4480-8877-779b6b1419d0'),\n",
       "  AIMessage(content='', additional_kwargs={'function_call': {'name': 'fetch_story', 'arguments': '{\"topic\": \"sharing\"}'}}, response_metadata={'prompt_feedback': {'block_reason': 0, 'safety_ratings': []}, 'finish_reason': 'STOP', 'model_name': 'gemini-2.5-flash', 'safety_ratings': []}, id='run--7b73892f-0dc8-4685-87ed-3d1551682b59-0', tool_calls=[{'name': 'fetch_story', 'args': {'topic': 'sharing'}, 'id': '6beaa220-35e8-4ac3-b58e-1e4375954994', 'type': 'tool_call'}], usage_metadata={'input_tokens': 51, 'output_tokens': 15, 'total_tokens': 132, 'input_token_details': {'cache_read': 0}, 'output_token_details': {'reasoning': 66}}),\n",
       "  ToolMessage(content='Benny the bunny shared his carrots and made everyone happy!', name='fetch_story', id='c9320165-d0eb-4219-af31-dfe7769dc136', tool_call_id='6beaa220-35e8-4ac3-b58e-1e4375954994'),\n",
       "  AIMessage(content='Benny the bunny shared his carrots and made everyone happy!', additional_kwargs={}, response_metadata={'prompt_feedback': {'block_reason': 0, 'safety_ratings': []}, 'finish_reason': 'STOP', 'model_name': 'gemini-2.5-flash', 'safety_ratings': []}, id='run--da019a9e-4900-4b0a-b024-5a11a95b71c6-0', usage_metadata={'input_tokens': 92, 'output_tokens': 12, 'total_tokens': 167, 'input_token_details': {'cache_read': 0}, 'output_token_details': {'reasoning': 63}}),\n",
       "  HumanMessage(content='Tell me a story about violence', additional_kwargs={}, response_metadata={}, id='609cafda-300e-4a47-8147-8e94e9a6c029'),\n",
       "  AIMessage(content='true', additional_kwargs={}, response_metadata={}, id='e00b73bd-a665-4492-805a-cf5d8a2854c8'),\n",
       "  AIMessage(content='❌ This topic is not suitable for kids and has been rejected.', additional_kwargs={}, response_metadata={}, id='44434262-8cfe-4233-95d8-2f6ebb075157'),\n",
       "  HumanMessage(content='Tell me a story about kindness', additional_kwargs={}, response_metadata={}, id='26ef0f2d-5b2f-479e-a817-419095165c71'),\n",
       "  AIMessage(content='false', additional_kwargs={}, response_metadata={}, id='9c46bfd3-0eb3-4e38-8753-12b33e45b729'),\n",
       "  AIMessage(content='', additional_kwargs={'function_call': {'name': 'fetch_story', 'arguments': '{\"topic\": \"kindness\"}'}}, response_metadata={'prompt_feedback': {'block_reason': 0, 'safety_ratings': []}, 'finish_reason': 'STOP', 'model_name': 'gemini-2.5-flash', 'safety_ratings': []}, id='run--249700f2-4592-4684-a3fd-240560328f75-0', tool_calls=[{'name': 'fetch_story', 'args': {'topic': 'kindness'}, 'id': '2e53b707-01c4-47bf-b94a-39aa0dac5779', 'type': 'tool_call'}], usage_metadata={'input_tokens': 137, 'output_tokens': 16, 'total_tokens': 153, 'input_token_details': {'cache_read': 0}}),\n",
       "  ToolMessage(content='Lila helped an old man and started a kindness club!', name='fetch_story', id='9961a73c-51c6-421e-a28d-17f1eb9f50b1', tool_call_id='2e53b707-01c4-47bf-b94a-39aa0dac5779'),\n",
       "  AIMessage(content='', additional_kwargs={'function_call': {'name': 'fetch_story', 'arguments': '{\"topic\": \"kindness\"}'}}, response_metadata={'prompt_feedback': {'block_reason': 0, 'safety_ratings': []}, 'finish_reason': 'STOP', 'model_name': 'gemini-2.5-flash', 'safety_ratings': []}, id='run--ab387d27-adaf-4405-b0aa-e85a2f72c3f7-0', tool_calls=[{'name': 'fetch_story', 'args': {'topic': 'kindness'}, 'id': '6549ac1a-41c5-447b-b679-d7e0615cecbb', 'type': 'tool_call'}], usage_metadata={'input_tokens': 179, 'output_tokens': 16, 'total_tokens': 286, 'input_token_details': {'cache_read': 0}, 'output_token_details': {'reasoning': 91}}),\n",
       "  ToolMessage(content='Lila helped an old man and started a kindness club!', name='fetch_story', id='8bb3509b-dc55-4c9e-8183-795f026bfb6b', tool_call_id='6549ac1a-41c5-447b-b679-d7e0615cecbb'),\n",
       "  AIMessage(content='Lila helped an old man and started a kindness club!', additional_kwargs={}, response_metadata={'prompt_feedback': {'block_reason': 0, 'safety_ratings': []}, 'finish_reason': 'STOP', 'model_name': 'gemini-2.5-flash', 'safety_ratings': []}, id='run--f43d7080-ae66-4c10-beca-29b9fb823921-0', usage_metadata={'input_tokens': 221, 'output_tokens': 12, 'total_tokens': 295, 'input_token_details': {'cache_read': 0}, 'output_token_details': {'reasoning': 62}}),\n",
       "  AIMessage(content='❌ Story rejected by human.', additional_kwargs={}, response_metadata={}, id='c722bab2-3da8-40e9-a695-c986ff862714')]}"
      ]
     },
     "execution_count": 80,
     "metadata": {},
     "output_type": "execute_result"
    }
   ],
   "source": [
    "graph.invoke(Command(resume={\"action\": \"reject\"}), config=config)"
   ]
  },
  {
   "cell_type": "code",
   "execution_count": 84,
   "id": "682bd335",
   "metadata": {},
   "outputs": [
    {
     "data": {
      "image/png": "[encoded data removed]",
      "text/plain": [
       "<IPython.core.display.Image object>"
      ]
     },
     "metadata": {},
     "output_type": "display_data"
    }
   ],
   "source": [
    "from IPython.display import Image, display\n",
    "from langchain_core.runnables.graph import MermaidDrawMethod\n",
    "\n",
    "display(\n",
    "    Image(\n",
    "        graph.get_graph().draw_mermaid_png(\n",
    "            draw_method=MermaidDrawMethod.API,\n",
    "        )\n",
    "    )\n",
    ")"
   ]
  },
  {
   "cell_type": "code",
   "execution_count": null,
   "id": "5b5ba956",
   "metadata": {},
   "outputs": [],
   "source": []
  }
 ],
 "metadata": {
  "kernelspec": {
   "display_name": ".venv",
   "language": "python",
   "name": "python3"
  },
  "language_info": {
   "codemirror_mode": {
    "name": "ipython",
    "version": 3
   },
   "file_extension": ".py",
   "mimetype": "text/x-python",
   "name": "python",
   "nbconvert_exporter": "python",
   "pygments_lexer": "ipython3",
   "version": "3.13.3"
  }
 },
 "nbformat": 4,
 "nbformat_minor": 5
}
